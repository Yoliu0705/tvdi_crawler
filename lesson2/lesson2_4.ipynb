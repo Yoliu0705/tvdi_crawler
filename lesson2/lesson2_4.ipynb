{
 "cells": [
  {
   "cell_type": "code",
   "execution_count": 1,
   "id": "7ded6395",
   "metadata": {},
   "outputs": [
    {
     "data": {
      "text/plain": [
       "25"
      ]
     },
     "execution_count": 1,
     "metadata": {},
     "output_type": "execute_result"
    }
   ],
   "source": [
    "i = 0\n",
    "i = i + 25\n",
    "i"
   ]
  },
  {
   "cell_type": "code",
   "execution_count": null,
   "id": "efc6a8fa",
   "metadata": {},
   "outputs": [
    {
     "name": "stdout",
     "output_type": "stream",
     "text": [
      "計數器:1\n",
      "計數器:2\n",
      "計數器:3\n",
      "計數器:4\n",
      "計數器:5\n",
      "計數器:6\n",
      "計數器:7\n",
      "計數器:8\n",
      "計數器:9\n",
      "計數器:10\n",
      "計數器:11\n",
      "計數器:12\n",
      "計數器:13\n",
      "計數器:14\n"
     ]
    }
   ],
   "source": [
    "i = 0\n",
    "while(True):\n",
    "    is_play = input(\"您還繼續玩嗎?(y,n)\")\n",
    "    if is_play == \"n\":\n",
    "        break\n",
    "    i += 1\n",
    "    print(f\"計數器:{i}\")"
   ]
  }
 ],
 "metadata": {
  "kernelspec": {
   "display_name": "myenv",
   "language": "python",
   "name": "python3"
  },
  "language_info": {
   "codemirror_mode": {
    "name": "ipython",
    "version": 3
   },
   "file_extension": ".py",
   "mimetype": "text/x-python",
   "name": "python",
   "nbconvert_exporter": "python",
   "pygments_lexer": "ipython3",
   "version": "3.11.13"
  }
 },
 "nbformat": 4,
 "nbformat_minor": 5
}
