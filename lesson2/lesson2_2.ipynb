{
 "cells": [
  {
   "cell_type": "markdown",
   "id": "2109fe04",
   "metadata": {},
   "source": [
    "### 基礎練習"
   ]
  },
  {
   "cell_type": "code",
   "execution_count": 1,
   "id": "228999e6",
   "metadata": {},
   "outputs": [
    {
     "name": "stdout",
     "output_type": "stream",
     "text": [
      "HELLO!Python! \n"
     ]
    }
   ],
   "source": [
    "print(\"HELLO!Python! \")"
   ]
  },
  {
   "cell_type": "code",
   "execution_count": 5,
   "id": "9ba7b634",
   "metadata": {},
   "outputs": [
    {
     "ename": "SyntaxError",
     "evalue": "unmatched ')' (1719450803.py, line 9)",
     "output_type": "error",
     "traceback": [
      "  \u001b[36mCell\u001b[39m\u001b[36m \u001b[39m\u001b[32mIn[5]\u001b[39m\u001b[32m, line 9\u001b[39m\n\u001b[31m    \u001b[39m\u001b[31m))\u001b[39m\n     ^\n\u001b[31mSyntaxError\u001b[39m\u001b[31m:\u001b[39m unmatched ')'\n"
     ]
    }
   ],
   "source": [
    "x = 10          # 整數\n",
    "name = \"Alice\"  # 字串\n",
    "pi = 3.14       # 浮點數\n",
    "is_valid = True # 布林值\n",
    "print(x = 10          # 整數\n",
    "name = \"Alice\"  # 字串\n",
    "pi = 3.14       # 浮點數\n",
    "is_valid = True # 布林值\n",
    "))"
   ]
  },
  {
   "cell_type": "code",
   "execution_count": null,
   "id": "bff3cd27",
   "metadata": {},
   "outputs": [],
   "source": []
  }
 ],
 "metadata": {
  "kernelspec": {
   "display_name": "myenv",
   "language": "python",
   "name": "python3"
  },
  "language_info": {
   "codemirror_mode": {
    "name": "ipython",
    "version": 3
   },
   "file_extension": ".py",
   "mimetype": "text/x-python",
   "name": "python",
   "nbconvert_exporter": "python",
   "pygments_lexer": "ipython3",
   "version": "3.11.13"
  }
 },
 "nbformat": 4,
 "nbformat_minor": 5
}
